{
 "cells": [
  {
   "cell_type": "code",
   "execution_count": 5,
   "metadata": {
    "collapsed": true
   },
   "outputs": [],
   "source": [
    "import numpy as np\n",
    "import librosa\n",
    "import librosa.display\n",
    "import IPython.display\n",
    "import matplotlib.pyplot as plt\n",
    "import matplotlib.style as ms\n",
    "\n",
    "\n",
    "%matplotlib inline"
   ]
  },
  {
   "cell_type": "code",
   "execution_count": 33,
   "metadata": {
    "collapsed": true
   },
   "outputs": [],
   "source": [
    "class ssm:\n",
    "    def __init__(self, feat):\n",
    "        self.s = self.create_ssm(feat)\n",
    "\n",
    "    def create_ssm(self, feat):\n",
    "        M, N = feat.shape\n",
    "        print(M, N)\n",
    "        s = np.zeros(N * N).reshape(N, N)\n",
    "        for i in range(N):\n",
    "            for j in range(N):\n",
    "                s[i, j] = self.dist(feat[:, i], feat[:, j])\n",
    "        return s\n",
    "\n",
    "    def dist(self, f, g):\n",
    "        return np.dot(f, g)\n",
    "\n",
    "    def visualize(self):\n",
    "        matplotlib.pcolor(self.s)\n"
   ]
  },
  {
   "cell_type": "code",
   "execution_count": 2,
   "metadata": {
    "collapsed": true
   },
   "outputs": [],
   "source": [
    "audio, sr = librosa.load(\"sun.wav\")"
   ]
  },
  {
   "cell_type": "code",
   "execution_count": 3,
   "metadata": {
    "collapsed": true
   },
   "outputs": [],
   "source": [
    "chroma = librosa.feature.chroma_stft(audio, sr)"
   ]
  },
  {
   "cell_type": "code",
   "execution_count": 27,
   "metadata": {
    "collapsed": false
   },
   "outputs": [
    {
     "name": "stdout",
     "output_type": "stream",
     "text": [
      "[ 0.09282155  0.06187742  0.04889497  0.25043271  0.43574188  0.0984867\n",
      "  0.16759618  0.27940995  0.7062319   1.          0.72197609  0.28612485]\n",
      "(12, 7969)\n",
      "12 7969\n"
     ]
    }
   ],
   "source": [
    "print(chroma[:, 1320])\n",
    "print(chroma.shape)\n",
    "ssm = ssm(chroma)"
   ]
  },
  {
   "cell_type": "code",
   "execution_count": null,
   "metadata": {
    "collapsed": false
   },
   "outputs": [],
   "source": []
  },
  {
   "cell_type": "code",
   "execution_count": null,
   "metadata": {
    "collapsed": true
   },
   "outputs": [],
   "source": []
  }
 ],
 "metadata": {
  "kernelspec": {
   "display_name": "Python 3",
   "language": "python",
   "name": "python3"
  },
  "language_info": {
   "codemirror_mode": {
    "name": "ipython",
    "version": 3
   },
   "file_extension": ".py",
   "mimetype": "text/x-python",
   "name": "python",
   "nbconvert_exporter": "python",
   "pygments_lexer": "ipython3",
   "version": "3.5.2"
  }
 },
 "nbformat": 4,
 "nbformat_minor": 0
}
