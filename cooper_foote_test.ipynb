{
 "cells": [
  {
   "cell_type": "code",
   "execution_count": 8,
   "metadata": {
    "collapsed": false
   },
   "outputs": [],
   "source": [
    "# Audio Thumbnailing based on \"Automatic Music Summarization via Similatiry Analysis\",\n",
    "# by Matthew Cooper and Jonathan Foote.\n",
    "\n",
    "import numpy as np\n",
    "import librosa\n",
    "from ssm import ssm\n",
    "\n",
    "class audio_thumb_cf:\n",
    "    def __init__(self, audio_path, t = 'chroma'):\n",
    "        self.ssm = ssm(audio_path, t)\n",
    "\n",
    "#    def __init__(self, S):\n",
    "#        self.ssm = S\n",
    "\n",
    "    def score(self, m, n):\n",
    "        return self.ssm(m, n)\n",
    "\n",
    "    def score_normalized(self, q, r):\n",
    "        return np.sum(np.sum(self.ssm.s[:,q : r + 1], axis = 0)/(self.ssm.s.shape[0]*(r - q + 1)))\n",
    "\n",
    "    def score_Q(self, L, i):\n",
    "        return self.score_normalized(i, i + L - 1)\n",
    "\n",
    "    def score_max(self, L):\n",
    "        N = self.ssm.s.shape[0]\n",
    "        s = np.array([])\n",
    "\n",
    "        for i in range(N - L + 1):\n",
    "            s = np.append(s, self.score_Q(L, i))\n",
    "        return s.argmax()\n",
    "    \n",
    "    def thumb(self, L):\n",
    "        q_max = self.score_max(L)\n",
    "        print(\"The best thumbnail for this song with length \" + str(round(self.frame_time(L), 2)) + \" starts at frame: \" + str(round(self.frame_time(q_max), 2)))\n",
    "        \n",
    "    def frame_time(self, f):\n",
    "        dt = self.ssm.duration/self.ssm.s.shape[0]\n",
    "        return dt*f"
   ]
  },
  {
   "cell_type": "code",
   "execution_count": null,
   "metadata": {
    "collapsed": true
   },
   "outputs": [],
   "source": []
  },
  {
   "cell_type": "code",
   "execution_count": null,
   "metadata": {
    "collapsed": true
   },
   "outputs": [],
   "source": []
  },
  {
   "cell_type": "code",
   "execution_count": 9,
   "metadata": {
    "collapsed": false
   },
   "outputs": [],
   "source": [
    "S = np.array([[1, 0, 0, 0, 0, 0],[0, 1, 1, 1, 0, 0], [0, 1, 1, 1, 0, 0], [0, 1, 1, 1, 0, 0],[0, 0, 0, 0, 1, 1], [0, 0, 0, 0, 1, 1]])\n",
    "at = audio_thumb_cf('sun.wav')"
   ]
  },
  {
   "cell_type": "code",
   "execution_count": 10,
   "metadata": {
    "collapsed": false
   },
   "outputs": [
    {
     "name": "stdout",
     "output_type": "stream",
     "text": [
      "The best thumbnail for this song with length 23.22 starts at frame: 151.1\n"
     ]
    }
   ],
   "source": [
    "at.thumb(1000)"
   ]
  },
  {
   "cell_type": "code",
   "execution_count": 66,
   "metadata": {
    "collapsed": false
   },
   "outputs": [
    {
     "data": {
      "text/plain": [
       "185.0165986394558"
      ]
     },
     "execution_count": 66,
     "metadata": {},
     "output_type": "execute_result"
    }
   ],
   "source": [
    "librosa.core.get_duration(S = at.ssm.s)"
   ]
  },
  {
   "cell_type": "code",
   "execution_count": null,
   "metadata": {
    "collapsed": true
   },
   "outputs": [],
   "source": []
  }
 ],
 "metadata": {
  "anaconda-cloud": {},
  "kernelspec": {
   "display_name": "Python [conda root]",
   "language": "python",
   "name": "conda-root-py"
  },
  "language_info": {
   "codemirror_mode": {
    "name": "ipython",
    "version": 3
   },
   "file_extension": ".py",
   "mimetype": "text/x-python",
   "name": "python",
   "nbconvert_exporter": "python",
   "pygments_lexer": "ipython3",
   "version": "3.5.2"
  }
 },
 "nbformat": 4,
 "nbformat_minor": 1
}
