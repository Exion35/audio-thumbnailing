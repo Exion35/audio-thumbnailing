{
 "cells": [
  {
   "cell_type": "code",
   "execution_count": 17,
   "metadata": {
    "collapsed": false
   },
   "outputs": [],
   "source": [
    "from cooper_foote import audio_thumb_cf\n",
    "import librosa"
   ]
  },
  {
   "cell_type": "code",
   "execution_count": 2,
   "metadata": {
    "collapsed": true
   },
   "outputs": [
    {
     "name": "stdout",
     "output_type": "stream",
     "text": [
      "Calculating features...\n",
      "Features calculated.\n",
      "Calculating SSM...\n",
      "SSM calculated.\n"
     ]
    }
   ],
   "source": [
    "mmt = audio_thumb_cf('mmt.wav')"
   ]
  },
  {
   "cell_type": "code",
   "execution_count": 16,
   "metadata": {},
   "outputs": [
    {
     "data": {
      "text/plain": [
       "array([[1.        , 0.90602076, 0.8309037 , ..., 0.8988991 , 0.9023841 ,\n",
       "        0.9181033 ],\n",
       "       [0.90602076, 1.        , 0.90602076, ..., 0.9326235 , 0.8988991 ,\n",
       "        0.907541  ],\n",
       "       [0.8309037 , 0.90602076, 1.        , ..., 0.94034076, 0.9326235 ,\n",
       "        0.90308714],\n",
       "       ...,\n",
       "       [0.8988991 , 0.9326235 , 0.94034076, ..., 1.        , 0.9870697 ,\n",
       "        0.9806205 ],\n",
       "       [0.9023841 , 0.8988991 , 0.9326235 , ..., 0.9870697 , 1.        ,\n",
       "        0.9870697 ],\n",
       "       [0.9181033 , 0.907541  , 0.90308714, ..., 0.9806205 , 0.9870697 ,\n",
       "        1.        ]], dtype=float32)"
      ]
     },
     "execution_count": 16,
     "metadata": {},
     "output_type": "execute_result"
    }
   ],
   "source": [
    "mmt.ssm.s"
   ]
  },
  {
   "cell_type": "code",
   "execution_count": 14,
   "metadata": {
    "collapsed": false
   },
   "outputs": [
    {
     "name": "stdout",
     "output_type": "stream",
     "text": [
      "The best thumbnail for this song with length 9.98 starts at time: 42.03s\n"
     ]
    }
   ],
   "source": [
    "mmt.thumb_alpha(43)"
   ]
  },
  {
   "cell_type": "code",
   "execution_count": 2,
   "metadata": {
    "collapsed": false
   },
   "outputs": [],
   "source": [
    "S = np.array([[1, 0, 0, 0, 0, 0],[0, 1, 1, 1, 0, 0], [0, 1, 1, 1, 0, 0], [0, 1, 1, 1, 0, 0],[0, 0, 0, 0, 1, 1], [0, 0, 0, 0, 1, 1]])\n",
    "at = audio_thumb_cf('hhl.mp3')"
   ]
  },
  {
   "cell_type": "code",
   "execution_count": 3,
   "metadata": {
    "collapsed": false
   },
   "outputs": [
    {
     "name": "stdout",
     "output_type": "stream",
     "text": [
      "The best thumbnail for this song with length 23.22 starts at frame: 3.74\n"
     ]
    }
   ],
   "source": [
    "at.thumb(1000)"
   ]
  },
  {
   "cell_type": "code",
   "execution_count": 66,
   "metadata": {
    "collapsed": false
   },
   "outputs": [
    {
     "data": {
      "text/plain": [
       "185.0165986394558"
      ]
     },
     "execution_count": 66,
     "metadata": {},
     "output_type": "execute_result"
    }
   ],
   "source": [
    "librosa.core.get_duration(S = at.ssm.s)"
   ]
  },
  {
   "cell_type": "code",
   "execution_count": null,
   "metadata": {
    "collapsed": true
   },
   "outputs": [],
   "source": []
  }
 ],
 "metadata": {
  "anaconda-cloud": {},
  "kernelspec": {
   "display_name": "Python 3.8.10 64-bit",
   "language": "python",
   "name": "python3"
  },
  "language_info": {
   "codemirror_mode": {
    "name": "ipython",
    "version": 3
   },
   "file_extension": ".py",
   "mimetype": "text/x-python",
   "name": "python",
   "nbconvert_exporter": "python",
   "pygments_lexer": "ipython3",
   "version": "3.8.10"
  },
  "vscode": {
   "interpreter": {
    "hash": "916dbcbb3f70747c44a77c7bcd40155683ae19c65e1c03b4aa3499c5328201f1"
   }
  }
 },
 "nbformat": 4,
 "nbformat_minor": 1
}
