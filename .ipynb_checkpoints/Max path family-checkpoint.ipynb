{
 "cells": [
  {
   "cell_type": "code",
   "execution_count": 1,
   "metadata": {
    "collapsed": true
   },
   "outputs": [],
   "source": [
    "import numpy as np"
   ]
  },
  {
   "cell_type": "code",
   "execution_count": 6,
   "metadata": {
    "collapsed": false
   },
   "outputs": [
    {
     "name": "stdout",
     "output_type": "stream",
     "text": [
      "0 0\n",
      "0 1\n",
      "0 2\n",
      "1 0\n",
      "1 1\n",
      "1 2\n",
      "2 0\n",
      "2 1\n",
      "2 2\n"
     ]
    }
   ],
   "source": [
    "S = np.array([[1, 0.3, 0.4, 0.5],\n",
    "              [0.3, 1, 0.6, 0.5],\n",
    "              [0.4, 0.6, 1, 0.3],\n",
    "              [0.5, 0.5, 0.3, 1]])\n",
    "\n",
    "[N, M] = S.shape\n",
    "L = 2\n",
    "for i in range(N - L + 1):\n",
    "    for j in range(M - L + 1):\n",
    "        np.sum(S[,])"
   ]
  },
  {
   "cell_type": "code",
   "execution_count": 68,
   "metadata": {
    "collapsed": false,
    "scrolled": false
   },
   "outputs": [
    {
     "name": "stdout",
     "output_type": "stream",
     "text": [
      "Matriz de similaridade:\n",
      "[[ 0.1  1.   0.3  0.4]\n",
      " [ 0.3  0.3  1.   0.6]\n",
      " [ 0.6  0.4  0.6  1. ]\n",
      " [ 0.7  0.5  0.5  0.3]\n",
      " [ 0.1  1.   0.3  0.4]\n",
      " [ 0.3  0.3  1.   0.6]\n",
      " [ 0.6  0.4  0.6  1. ]\n",
      " [ 0.7  0.5  0.5  0.3]]\n",
      "Matriz de custos:\n",
      "[[ 5.8  6.5  5.5  5.5  5.1]\n",
      " [ 4.4  5.   2.8  4.4  5.8]\n",
      " [ 2.1  2.4  3.1  4.8  4.4]\n",
      " [ 2.1  2.2  3.8  3.1  2.1]\n",
      " [ 2.1  2.8  1.7  1.7  1.4]\n",
      " [ 0.6  1.2  0.7  1.   2.1]\n",
      " [ 0.   0.3  0.4  1.1  0.6]\n",
      " [ 0.   0.1 -inf -inf -inf]]\n",
      "Score optimal:\n",
      "5.1\n",
      "Vector scores:\n",
      "[(5.0999999999999996, 0)]\n",
      "Matriz de similaridade:\n",
      "[[ 1.   0.3  0.4  0.5]\n",
      " [ 0.3  1.   0.6  0.5]\n",
      " [ 0.4  0.6  1.   0.3]\n",
      " [ 0.5  0.5  0.3  1. ]\n",
      " [ 1.   0.3  0.4  0.5]\n",
      " [ 0.3  1.   0.6  0.5]\n",
      " [ 0.4  0.6  1.   0.3]\n",
      " [ 0.5  0.5  0.3  1. ]]\n",
      "Matriz de custos:\n",
      "[[ 6.3  6.8  4.9  6.3  8. ]\n",
      " [ 4.   4.4  5.6  7.   6.3]\n",
      " [ 4.   4.3  6.   5.6  3.7]\n",
      " [ 4.   5.   3.1  3.2  3.5]\n",
      " [ 2.3  2.8  1.4  2.3  4. ]\n",
      " [ 0.5  0.9  1.6  3.   2.3]\n",
      " [ 0.   0.3  2.   1.6  0.5]\n",
      " [ 0.   1.  -inf -inf -inf]]\n",
      "Score optimal:\n",
      "8.0\n",
      "Vector scores:\n",
      "[(5.0999999999999996, 0), (8.0, 1)]\n"
     ]
    }
   ],
   "source": [
    "#S = np.array([[1, 0.3, 0.4, 0.5],[0.3, 1, 0.6, 0.5],[0.4, 0.6, 1, 0.3],[0.5, 0.5, 0.3, 1]])\n",
    "\n",
    "S = np.array([[1, 0.3, 0.4, 0.5],\n",
    "              [0.3, 1, 0.6, 0.5],\n",
    "              [0.4, 0.6, 1, 0.3],\n",
    "              [0.5, 0.5, 0.3, 1],\n",
    "              [1, 0.3, 0.4, 0.5],\n",
    "              [0.3, 1, 0.6, 0.5],\n",
    "              [0.4, 0.6, 1, 0.3],\n",
    "              [0.5, 0.5, 0.3, 1]])\n",
    "\n",
    "\n",
    "S = np.array([[0.1, 1, 0.3, 0.4, 0.5],\n",
    "              [0.3, 0.3, 1, 0.6, 0.5],\n",
    "              [0.6, 0.4, 0.6, 1, 0.3],\n",
    "              [0.7, 0.5, 0.5, 0.3, 1],\n",
    "              [0.1, 1, 0.3, 0.4, 0.5],\n",
    "              [0.3, 0.3, 1, 0.6, 0.5],\n",
    "              [0.6, 0.4, 0.6, 1, 0.3],\n",
    "              [0.7, 0.5, 0.5, 0.3, 1]])\n",
    "\n",
    "\n",
    "\n",
    "alpha = [1, 4]\n",
    "Sa = S[:, alpha[0]:alpha[1] + 1]\n",
    "\n",
    "#[N, M_ori] = Sa.shape\n",
    "#M = alpha[1] - alpha[0] + 1\n",
    "#D = np.zeros((N, M + 1))\n",
    "#print(N)\n",
    "#print(Sa[4, 0])\n",
    "#print(S)\n",
    "\n",
    "\n",
    "\n",
    "alpha = 4\n",
    "[N, M] = S.shape\n",
    "D = np.zeros((N, alpha + 1))\n",
    "scores_alpha = []\n",
    "for low in range(0, M - alpha + 1):\n",
    "    Sa = S[:, low:low + alpha]\n",
    "    #print(Sa)\n",
    "\n",
    "    #D[N - 1, 2:M + 1] = -np.inf\n",
    "    D[N - 1, 2:alpha + 1] = -np.inf\n",
    "\n",
    "    for i in range(N - 1, -1, -1):\n",
    "        #for j in range(M + 1):\n",
    "        for j in range(alpha + 1):\n",
    "\n",
    "            if (j == 0 and i + 1 < N):\n",
    "    #            print('D[{:d}, {:d}] = max(D[{:d},0], D[{:d},{:d}]'.format(i, j, i+1, i+1, M))\n",
    "                #D[i, j] = max(D[i + 1,0], D[i + 1,M])\n",
    "                D[i, j] = max(D[i + 1,0], D[i + 1, alpha])\n",
    "            elif (j == 1):\n",
    "                #D[i, j] = D[i, 0] + S[0, i-1]\n",
    "    #            print('D[{:d}, {:d}] =  D[{:d},0] + Sa[0,{:d}]'.format(i, j, i, (N-1-i)))\n",
    "    #            D[i, j] = D[i, 0] + Sa[0, N - 1 - i]\n",
    "                D[i, j] = D[i, 0] + Sa[N - 1 - i, 0]\n",
    "            elif (i != N - 1 and j != 0):\n",
    "    #            print('D[{:d},{:d}] = Sa[{:d}, {:d}] + max(D[{:d}, {:d}], D[{:d}, {:d}], D[{:d}, {:d}]'.format(i, j, j-1, (N - 1 - i), i+1, j-1, i+1,j-2,i+2,j-1))\n",
    "\n",
    "                #D[i, j] = Sa[j - 1, (N - 1 - i)] + max(D[i + 1, j - 1] if i + 1 < N and j - 1 > 0 else 0,\n",
    "                #                            D[i + 1, j - 2] if i + 1 < N and j - 2 > 0 else 0, \n",
    "                #                            D[i + 2, j - 1] if i + 2 < N and j - 1 > 0 else 0)\n",
    "\n",
    "                D[i, j] = Sa[N - 1 - i, j - 1] + max(D[i + 1, j - 1] if i + 1 < N and j - 1 > 0 else 0,\n",
    "                                            D[i + 1, j - 2] if i + 1 < N and j - 2 > 0 else 0, \n",
    "                                            D[i + 2, j - 1] if i + 2 < N and j - 1 > 0 else 0)\n",
    "                score_opt = max(D[0, alpha], D[N-1,0])\n",
    "    path_family = calculate_path(score_opt, low, D, Sa)\n",
    "    gamma = calculate_coverage(path, alpha)\n",
    "    mi = calculate_score(path_family, score_opt, alpha)\n",
    "    fitness = calculate_path(gamma, mi)\n",
    "    fitness_list.append(fitness, low)\n",
    "    \n",
    "    print(\"Matriz de similaridade:\")\n",
    "    print(Sa)\n",
    "    print(\"Matriz de custos:\")\n",
    "    print(D)\n",
    "    print(\"Score optimal:\")\n",
    "    print(score_opt)\n",
    "    print(\"Vector scores:\")\n",
    "    print(scores_alpha)\n",
    "\n",
    "print(\"Thumbnail: \")\n",
    "(max_fit, max_low) = max(fitness_list, key = lambda item:item[0])\n",
    "\n",
    "\n",
    "\n"
   ]
  },
  {
   "cell_type": "code",
   "execution_count": null,
   "metadata": {
    "collapsed": true
   },
   "outputs": [],
   "source": []
  },
  {
   "cell_type": "code",
   "execution_count": null,
   "metadata": {
    "collapsed": true
   },
   "outputs": [],
   "source": []
  },
  {
   "cell_type": "code",
   "execution_count": 7,
   "metadata": {
    "collapsed": false
   },
   "outputs": [
    {
     "name": "stdout",
     "output_type": "stream",
     "text": [
      "[[ 1.   0.3  0.4  0.5]\n",
      " [ 0.3  1.   0.6  0.5]\n",
      " [ 0.4  0.6  1.   0.3]\n",
      " [ 0.5  0.5  0.3  1. ]]\n"
     ]
    },
    {
     "data": {
      "text/plain": [
       "array([[ 1. , -inf, -inf, -inf],\n",
       "       [ 0.3,  2. , -inf, -inf],\n",
       "       [ 0.4,  0.9,  3. , -inf],\n",
       "       [ 0.5,  0.9,  1.2,  4. ]])"
      ]
     },
     "execution_count": 7,
     "metadata": {},
     "output_type": "execute_result"
    }
   ],
   "source": [
    "#N = 8\n",
    "#X = np.random.randint(10, size = N*N).reshape(N, N)\n",
    "N = 4\n",
    "S = np.array([[1, 2, 0, 2],[2, 1, 1, 1],[3, 2, 0, 1],[4, 1, 0, 1]])\n",
    "\n",
    "alpha = (1,3)\n",
    "M = alpha[1] - alpha[0] + 1\n",
    "D = np.zeros(N * (M + 1)).reshape(N, M + 1)\n",
    "D[:,:] = -np.inf\n",
    "D[0, 0] = 0\n",
    "#for i in range(1, M):\n",
    "#    D[0, i + 1] = -np.inf\n",
    "\n",
    "        \n",
    "# for i in range(1, N):\n",
    "#     D[i, 0] = max(D[i - 1, 0], D[i - 1, M])\n",
    "#     D[i - 1, 1] = D[i - 1, 0] + S[i - 1, 0]\n",
    "#     print(D)\n",
    "#     print()\n",
    "#     for j in range(2, M + 1):\n",
    "#         d1 = D[i - 1][j - 1]\n",
    "#         d2 = D[i - 2][j - 1]\n",
    "#         d3 = D[i - 1][j - 2]\n",
    "#         D[i, j] = S[i - 1, j - 1] + max(d1 if d1 != -np.inf else 0, \n",
    "#                                     d2 if d2 != -np.inf else 0,\n",
    "#                                     d3 if d3 != -np.inf else 0)\n",
    "#         print(D)\n",
    "\n",
    "        \n",
    "S = np.array([[1, 0.3, 0.4, 0.5],[0.3, 1, 0.6, 0.5],[0.4, 0.6, 1, 0.3],[0.5, 0.5, 0.3, 1]])\n",
    "print(S)\n",
    "# D = np.zeros((ssm.shape[0],L))\n",
    "D = np.zeros(N * (M + 1)).reshape(N, M + 1)\n",
    "\n",
    "D[0,0] = S[0,0]\n",
    "for x in range(1,M+1):\n",
    "    D[0,x] = -np.inf\n",
    "    for y in range(1,N):\n",
    "        a = D[y-1, -1]\n",
    "        b = S[y, 0] + D[y-1, 0] - S[y-1, 0]\n",
    "        D[y,0] = max(a, b)\n",
    "        for x in range(1,M+1):\n",
    "            D[y,x] = D[y-1,x-1]+S[y,x]\n",
    "D"
   ]
  },
  {
   "cell_type": "code",
   "execution_count": null,
   "metadata": {
    "collapsed": true
   },
   "outputs": [],
   "source": []
  }
 ],
 "metadata": {
  "anaconda-cloud": {},
  "kernelspec": {
   "display_name": "Python [conda root]",
   "language": "python",
   "name": "conda-root-py"
  },
  "language_info": {
   "codemirror_mode": {
    "name": "ipython",
    "version": 3
   },
   "file_extension": ".py",
   "mimetype": "text/x-python",
   "name": "python",
   "nbconvert_exporter": "python",
   "pygments_lexer": "ipython3",
   "version": "3.5.2"
  }
 },
 "nbformat": 4,
 "nbformat_minor": 1
}
