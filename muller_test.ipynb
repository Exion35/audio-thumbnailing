{
 "cells": [
  {
   "cell_type": "code",
   "execution_count": 1,
   "metadata": {
    "collapsed": true
   },
   "outputs": [],
   "source": [
    "# \"A segment-based fitness measure for capturing repetitive structs of music recordings\"\n",
    "# by Meinard Müller, Peter Grosche, Nanzhu Jiang\n",
    "\n",
    "import numpy as np\n",
    "import librosa\n",
    "import matplotlib.pyplot as plt\n",
    "from ssm import ssm\n",
    "\n",
    "class audio_thumb_muller:\n",
    "    def __init__(self, audio_path, t = 'chroma', k = 10):\n",
    "        self.ssm = ssm(audio_path, k, t)\n",
    "\n",
    "        # S = np.array([[0.1, 1, 0.3, 0.4, 0.5],\n",
    "        #               [0.3, 0.3, 1, 0.6, 0.5],\n",
    "        #               [0.6, 0.4, 0.6, 1, 0.3],\n",
    "        #               [0.7, 0.5, 0.5, 0.3, 1],\n",
    "        #               [0.1, 1, 0.3, 0.4, 0.5],\n",
    "        #               [0.3, 0.3, 1, 0.6, 0.5],\n",
    "        #               [0.6, 0.4, 0.6, 1, 0.3],\n",
    "        #               [0.7, 0.5, 0.5, 0.3, 1]])\n",
    "        # self.max_path_family(S, 4)\n",
    "\n",
    "    def calculate_path(self, pos, D):\n",
    "        [N, M] = D.shape\n",
    "        path = []\n",
    "        new_path = []\n",
    "        path_alpha = []\n",
    "        path.append(pos)\n",
    "        (i, j) = pos\n",
    "        ok = 1\n",
    "        while(ok):\n",
    "            tmp = []\n",
    "            if j == 0 and i < N - 1:\n",
    "                if D[i + 1, j] > D[i + 1, M - 1]:\n",
    "                    path.append((i + 1, j))\n",
    "                else:\n",
    "                    path.append((i + 1, M - 1))\n",
    "                    path_alpha.append(path.copy())\n",
    "                    path = []\n",
    "\n",
    "                #path.append((i + 1, j) if D[i + 1, j] > D[i + 1, M - 1] else (i + 1, M - 1))\n",
    "                (i, j) = (i + 1, j) if D[i + 1, j] > D[i + 1, M - 1] else (i + 1, M - 1)\n",
    "            elif j == 1 and i < N - 1:\n",
    "                path.append((i, j))\n",
    "                (i, j) = (i, j - 1)\n",
    "            else:\n",
    "                if i + 1 < N and j - 1 >= 0: tmp.append((D[i + 1, j - 1], (i + 1, j - 1)))\n",
    "                if i + 1 < N and j - 2 >= 0: tmp.append((D[i + 1, j - 2], (i + 1, j - 2)))\n",
    "                if i + 2 < N and j - 1 >= 0: tmp.append((D[i + 2, j - 1], (i + 2, j - 1)))\n",
    "\n",
    "                if tmp != []:\n",
    "                    pos = max(tmp)\n",
    "                    path.append(pos[1])\n",
    "                    i, j = pos[1]\n",
    "                else:\n",
    "                    xmax = max(path, key = lambda item:item[1])\n",
    "                    xmin = min(path, key = lambda item:item[1])\n",
    "                    if xmax[1] + xmin[1] == M - 1 or xmax[1] + xmin[1] == M - 2:\n",
    "                        path_alpha.append(path.copy())\n",
    "                    ok = 0\n",
    "                    \n",
    "            if i == 0 and j == 0:\n",
    "                ok = 0\n",
    "\n",
    "        for path in path_alpha:\n",
    "            for x in path:\n",
    "                new_path.append((N - 1 - x[0], x[1] - 1))\n",
    "        return new_path\n",
    "\n",
    "    ## Verificar isso aqui!\n",
    "    def calculate_coverage(self, path_family, alpha, N):\n",
    "        gamma = len(path_family) - len(path_family)/alpha\n",
    "        return (gamma - alpha)/N\n",
    "\n",
    "    def calculate_score(self, path_family, score_opt, alpha):\n",
    "        return (score_opt - alpha)/len(path_family)\n",
    "\n",
    "    def calculate_fitness(self, gamma, mi):\n",
    "        return 2*(gamma * mi/(gamma + mi))\n",
    "\n",
    "    def print_status(self, M, low, alpha):\n",
    "        pct = 100*low/(M - alpha)\n",
    "        print(\"{0:.2f}\".format(pct), end = ' ')\n",
    "\n",
    "\n",
    "    def visualize(self, S):\n",
    "        plt.figure(figsize=(12, 8))\n",
    "        librosa.display.specshow(S, x_axis='frames', y_axis='frames', n_xticks=12)\n",
    "        plt.title('SSM')\n",
    "        plt.set_cmap('hot_r')\n",
    "        plt.colorbar()\n",
    "        plt.show()\n",
    "\n",
    "\n",
    "    def display_path(self, path_family, low):\n",
    "        S = self.ssm.s.copy()\n",
    "        new_cells = [(cell[0], cell[1] + low) for cell in path_family]\n",
    "        for cell in new_cells:\n",
    "            S[cell] = 5\n",
    "        self.visualize(S)\n",
    "\n",
    "    def max_path_family(self, S, alpha):\n",
    "        [N, M] = S.shape\n",
    "        D = np.zeros((N, alpha + 1))\n",
    "        fitness_list = []\n",
    "        for low in range(0, M - alpha + 1):\n",
    "            Sa = S[:, low:low + alpha]\n",
    "            D[N - 1, 2:alpha + 1] = -np.inf\n",
    "            for i in range(N - 1, -1, -1):\n",
    "                for j in range(alpha + 1):\n",
    "                    if (j == 0 and i + 1 < N):\n",
    "                        D[i, j] = max(D[i + 1,0], D[i + 1, alpha])\n",
    "                    elif (j == 1):\n",
    "                        D[i, j] = D[i, 0] + Sa[N - 1 - i, 0]\n",
    "                    elif (i != N - 1 and j != 0):\n",
    "                        D[i, j] = Sa[N - 1 - i, j - 1] + max(D[i + 1, j - 1] if i + 1 < N and j - 1 > 0 else 0,\n",
    "                                                             D[i + 1, j - 2] if i + 1 < N and j - 2 > 0 else 0,\n",
    "                                                             D[i + 2, j - 1] if i + 2 < N and j - 1 > 0 else 0)\n",
    "            possible_max = [D[0, alpha], D[0, 0]]\n",
    "            score_opt = max(possible_max)\n",
    "            arg = np.argmax(possible_max)\n",
    "            path_family = self.calculate_path((0, 0) if arg else (0, alpha), D)\n",
    "            gamma = self.calculate_coverage(path_family, alpha, N)\n",
    "            mi = self.calculate_score(path_family, score_opt, alpha)\n",
    "            fitness = self.calculate_fitness(gamma, mi)\n",
    "            fitness_list.append((fitness, low))\n",
    "            self.print_status(M, low, alpha)\n",
    "            #self.display_path(path_family, low)\n",
    "        return fitness_list\n",
    "\n",
    "    def thumb_alpha(self, alpha):\n",
    "        fitness_list = self.max_path_family(self.ssm.s, alpha)\n",
    "        (max_fit, max_low) = max(fitness_list, key = lambda item:item[0])\n",
    "        print(\"Thumbnail init: \" + str(self.frame_to_time(max_low)) + \" with: \" + str(max_fit) + \" of fitness value.\")\n",
    "\n",
    "    def thumb_time(self, time):\n",
    "        fitness_list = self.max_path_family(self.ssm.s, self.time_to_frame(time))\n",
    "        (max_fit, max_low) = max(fitness_list, key = lambda item:item[0])\n",
    "        print(\"Thumbnail init: \" + str(self.frame_to_time(max_low)) + \" with: \" + str(max_fit) + \" of fitness value.\")\n",
    "\n",
    "    def frame_to_time(self, f):\n",
    "        dt = self.ssm.duration/self.ssm.s.shape[0]\n",
    "        return dt*f\n",
    "\n",
    "    def time_to_frame(self, time):\n",
    "        df = self.ssm.s.shape[0]/self.ssm.duration\n",
    "        return int(df*time)\n"
   ]
  },
  {
   "cell_type": "code",
   "execution_count": null,
   "metadata": {
    "collapsed": true
   },
   "outputs": [],
   "source": []
  },
  {
   "cell_type": "code",
   "execution_count": 2,
   "metadata": {
    "collapsed": false
   },
   "outputs": [
    {
     "name": "stdout",
     "output_type": "stream",
     "text": [
      "Calculating features...\n",
      "Features calculated.\n",
      "Calculating SSM...\n",
      "SSM calculated.\n"
     ]
    }
   ],
   "source": [
    "at = audio_thumb_muller('sun.wav', k = 10)"
   ]
  },
  {
   "cell_type": "code",
   "execution_count": 3,
   "metadata": {
    "collapsed": false,
    "scrolled": false
   },
   "outputs": [
    {
     "name": "stdout",
     "output_type": "stream",
     "text": [
      "0.00 0.16 0.32 0.48 0.64 0.80 0.96 1.12 1.28 1.44 1.60 1.76 1.92 2.08 2.24 2.40 2.56 2.72 2.88 3.04 3.20 3.36 3.52 3.68 3.84 4.00 4.16 4.32 4.48 4.64 4.80 4.96 5.12 5.28 5.44 5.60 5.76 5.92 6.08 6.24 6.40 6.56 6.72 6.88 7.04 7.20 7.36 7.52 7.68 7.84 8.00 8.16 8.32 8.48 8.64 8.80 8.96 9.12 9.28 9.44 9.60 9.76 9.92 10.08 10.24 10.40 10.56 10.72 10.88 11.04 11.20 11.36 11.52 11.68 11.84 12.00 12.16 12.32 12.48 12.64 12.80 12.96 13.12 13.28 13.44 13.60 13.76 13.92 14.08 14.24 14.40 14.56 14.72 14.88 15.04 15.20 15.36 15.52 15.68 15.84 16.00 16.16 16.32 16.48 16.64 16.80 16.96 17.12 17.28 17.44 17.60 17.76 17.92 18.08 18.24 18.40 18.56 18.72 18.88 19.04 19.20 19.36 19.52 19.68 19.84 20.00 20.16 20.32 20.48 20.64 20.80 20.96 21.12 21.28 21.44 21.60 21.76 21.92 22.08 22.24 22.40 22.56 22.72 22.88 23.04 23.20 23.36 23.52 23.68 23.84 24.00 24.16 24.32 24.48 24.64 24.80 24.96 25.12 25.28 25.44 25.60 25.76 25.92 26.08 26.24 26.40 26.56 26.72 26.88 27.04 27.20 27.36 27.52 27.68 27.84 28.00 28.16 28.32 28.48 28.64 28.80 28.96 29.12 29.28 29.44 29.60 29.76 29.92 30.08 30.24 30.40 30.56 30.72 30.88 31.04 31.20 31.36 31.52 31.68 31.84 32.00 32.16 32.32 32.48 32.64 32.80 32.96 33.12 33.28 33.44 33.60 33.76 33.92 34.08 34.24 34.40 34.56 34.72 34.88 35.04 35.20 35.36 35.52 35.68 35.84 36.00 36.16 36.32 36.48 36.64 36.80 36.96 37.12 37.28 37.44 37.60 37.76 37.92 38.08 38.24 38.40 38.56 38.72 38.88 39.04 39.20 39.36 39.52 39.68 39.84 40.00 40.16 40.32 40.48 40.64 40.80 40.96 41.12 41.28 41.44 41.60 41.76 41.92 42.08 42.24 42.40 42.56 42.72 42.88 43.04 43.20 43.36 43.52 43.68 43.84 44.00 44.16 44.32 44.48 44.64 44.80 44.96 45.12 45.28 45.44 45.60 45.76 45.92 46.08 46.24 46.40 46.56 46.72 46.88 47.04 47.20 47.36 47.52 47.68 47.84 48.00 48.16 48.32 48.48 48.64 48.80 48.96 49.12 49.28 49.44 49.60 49.76 49.92 50.08 50.24 50.40 50.56 50.72 50.88 51.04 51.20 51.36 51.52 51.68 51.84 52.00 52.16 52.32 52.48 52.64 52.80 52.96 53.12 53.28 53.44 53.60 53.76 53.92 54.08 54.24 54.40 54.56 54.72 54.88 55.04 55.20 55.36 55.52 55.68 55.84 56.00 56.16 56.32 56.48 56.64 56.80 56.96 57.12 57.28 57.44 57.60 57.76 57.92 58.08 58.24 58.40 58.56 58.72 58.88 59.04 59.20 59.36 59.52 59.68 59.84 60.00 60.16 60.32 60.48 60.64 60.80 60.96 61.12 61.28 61.44 61.60 61.76 61.92 62.08 62.24 62.40 62.56 62.72 62.88 63.04 63.20 63.36 63.52 63.68 63.84 64.00 64.16 64.32 64.48 64.64 64.80 64.96 65.12 65.28 65.44 65.60 65.76 65.92 66.08 66.24 66.40 66.56 66.72 66.88 67.04 67.20 67.36 67.52 67.68 67.84 68.00 68.16 68.32 68.48 68.64 68.80 68.96 69.12 69.28 69.44 69.60 69.76 69.92 70.08 70.24 70.40 70.56 70.72 70.88 71.04 71.20 71.36 71.52 71.68 71.84 72.00 72.16 72.32 72.48 72.64 72.80 72.96 73.12 73.28 73.44 73.60 73.76 73.92 74.08 74.24 74.40 74.56 74.72 74.88 75.04 75.20 75.36 75.52 75.68 75.84 76.00 76.16 76.32 76.48 76.64 76.80 76.96 77.12 77.28 77.44 77.60 77.76 77.92 78.08 78.24 78.40 78.56 78.72 78.88 79.04 79.20 79.36 79.52 79.68 79.84 80.00 80.16 80.32 80.48 80.64 80.80 80.96 81.12 81.28 81.44 81.60 81.76 81.92 82.08 82.24 82.40 82.56 82.72 82.88 83.04 83.20 83.36 83.52 83.68 83.84 84.00 84.16 84.32 84.48 84.64 84.80 84.96 85.12 85.28 85.44 85.60 85.76 85.92 86.08 86.24 86.40 86.56 86.72 86.88 87.04 87.20 87.36 87.52 87.68 87.84 88.00 88.16 88.32 88.48 88.64 88.80 88.96 89.12 89.28 89.44 89.60 89.76 89.92 90.08 90.24 90.40 90.56 90.72 90.88 91.04 91.20 91.36 91.52 91.68 91.84 92.00 92.16 92.32 92.48 92.64 92.80 92.96 93.12 93.28 93.44 93.60 93.76 93.92 94.08 94.24 94.40 94.56 94.72 94.88 95.04 95.20 95.36 95.52 95.68 95.84 96.00 96.16 96.32 96.48 96.64 96.80 96.96 97.12 97.28 97.44 97.60 97.76 97.92 98.08 98.24 98.40 98.56 98.72 98.88 99.04 99.20 99.36 99.52 99.68 99.84 100.00 Thumbnail init: 59.19602591350217 with: 0.691474169182 of fitness value.\n"
     ]
    }
   ],
   "source": [
    "at.thumb_time(40)"
   ]
  },
  {
   "cell_type": "code",
   "execution_count": null,
   "metadata": {
    "collapsed": false
   },
   "outputs": [],
   "source": [
    "at.ssm.s.shape"
   ]
  },
  {
   "cell_type": "code",
   "execution_count": null,
   "metadata": {
    "collapsed": false
   },
   "outputs": [],
   "source": [
    "at.ssm.visualize()"
   ]
  },
  {
   "cell_type": "code",
   "execution_count": null,
   "metadata": {
    "collapsed": false,
    "scrolled": false
   },
   "outputs": [],
   "source": [
    "at.ssm.threshold(0.7)"
   ]
  },
  {
   "cell_type": "code",
   "execution_count": null,
   "metadata": {
    "collapsed": false
   },
   "outputs": [],
   "source": [
    "at.ssm.visualize()"
   ]
  },
  {
   "cell_type": "code",
   "execution_count": null,
   "metadata": {
    "collapsed": true
   },
   "outputs": [],
   "source": []
  }
 ],
 "metadata": {
  "anaconda-cloud": {},
  "kernelspec": {
   "display_name": "Python [conda root]",
   "language": "python",
   "name": "conda-root-py"
  },
  "language_info": {
   "codemirror_mode": {
    "name": "ipython",
    "version": 3
   },
   "file_extension": ".py",
   "mimetype": "text/x-python",
   "name": "python",
   "nbconvert_exporter": "python",
   "pygments_lexer": "ipython3",
   "version": "3.5.2"
  }
 },
 "nbformat": 4,
 "nbformat_minor": 1
}
