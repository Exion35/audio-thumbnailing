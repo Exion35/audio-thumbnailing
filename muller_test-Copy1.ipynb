{
 "cells": [
  {
   "cell_type": "code",
   "execution_count": 7,
   "metadata": {
    "collapsed": false
   },
   "outputs": [],
   "source": [
    "# \"A segment-based fitness measure for capturing repetitive structs of music recordings\"\n",
    "# by Meinard Müller, Peter Grosche, Nanzhu Jiang\n",
    "\n",
    "import numpy as np\n",
    "import librosa\n",
    "import matplotlib.pyplot as plt\n",
    "from ssm import ssm\n",
    "\n",
    "class audio_thumb_muller:\n",
    "    def __init__(self, audio_path, t = 'chroma', k = 10):\n",
    "        self.ssm = ssm(audio_path, k, t)\n",
    "\n",
    "        # S = np.array([[0.1, 1, 0.3, 0.4, 0.5],\n",
    "        #               [0.3, 0.3, 1, 0.6, 0.5],\n",
    "        #               [0.6, 0.4, 0.6, 1, 0.3],\n",
    "        #               [0.7, 0.5, 0.5, 0.3, 1],\n",
    "        #               [0.1, 1, 0.3, 0.4, 0.5],\n",
    "        #               [0.3, 0.3, 1, 0.6, 0.5],\n",
    "        #               [0.6, 0.4, 0.6, 1, 0.3],\n",
    "        #               [0.7, 0.5, 0.5, 0.3, 1]])\n",
    "        # self.max_path_family(S, 4)\n",
    "\n",
    "    def calculate_path(self, pos, D, Sa):\n",
    "        [N, M] = D.shape\n",
    "        path = []\n",
    "        new_path = []\n",
    "        path_alpha = []\n",
    "        path.append(pos)\n",
    "        (i, j) = pos\n",
    "        ok = 1\n",
    "        while(ok):\n",
    "            tmp = []\n",
    "            if j == 0 and i < N - 1:\n",
    "                if D[i + 1, j] > D[i + 1, M - 1]:\n",
    "                    #path.append((i + 1, j))\n",
    "                    (i, j) = i + 1, j\n",
    "                else:\n",
    "                    path.append((i + 1, M - 1))\n",
    "                    (i, j) = i + 1, M - 1\n",
    "                    path_alpha.append(path.copy())\n",
    "                    #path = []\n",
    "\n",
    "                #path.append((i + 1, j) if D[i + 1, j] > D[i + 1, M - 1] else (i + 1, M - 1))\n",
    "                #(i, j) = (i + 1, j) if D[i + 1, j] > D[i + 1, M - 1] else (i + 1, M - 1)\n",
    "            elif j == 1 and i < N - 1:\n",
    "                path.append((i, j))\n",
    "                (i, j) = (i, j - 1)\n",
    "            else:\n",
    "                if i + 1 < N and j - 1 >= 0 and Sa[N - 1 - (i + 1), j - 2] > 0 : tmp.append((D[i + 1, j - 1], (i + 1, j - 1)))\n",
    "                if i + 1 < N and j - 2 >= 0 and Sa[N - 1 - (i + 1), j - 3] > 0 : tmp.append((D[i + 1, j - 2], (i + 1, j - 2)))\n",
    "                if i + 2 < N and j - 1 >= 0 and Sa[N - 1 - (i + 2), j - 2] > 0 : tmp.append((D[i + 2, j - 1], (i + 2, j - 1)))\n",
    "\n",
    "                if tmp != []:\n",
    "                    pos = max(tmp, key = lambda item:item[0])\n",
    "                    path.append(pos[1])\n",
    "                    i, j = pos[1]\n",
    "                #elif path != []:\n",
    "                #    xmax = max(path, key = lambda item:item[1])\n",
    "                #    xmin = min(path, key = lambda item:item[1])\n",
    "                #    if xmax[1] + xmin[1] == M - 1 or xmax[1] + xmin[1] == M - 2:\n",
    "                #        path_alpha.append(path.copy())\n",
    "                #    ok = 0\n",
    "                else:\n",
    "                    j = j - 1\n",
    "                \n",
    "                \n",
    "                    \n",
    "            if i == N - 1 and j == 0:\n",
    "                ok = 0\n",
    "            #print(i, j)\n",
    "\n",
    "        for path in path_alpha:\n",
    "            for x in path:\n",
    "                new_path.append((N - 1 - x[0], x[1] - 1))\n",
    "        return new_path\n",
    "\n",
    "    ## Verificar isso aqui!\n",
    "    def calculate_coverage(self, path_family, alpha, N):\n",
    "        gamma = len(path_family) - len(path_family)/alpha\n",
    "        return (gamma - alpha)/N\n",
    "\n",
    "    def calculate_score(self, path_family, score_opt, alpha):\n",
    "        return (score_opt - alpha)/len(path_family)\n",
    "\n",
    "    def calculate_fitness(self, gamma, mi):\n",
    "        return 2*(gamma * mi/(gamma + mi))\n",
    "\n",
    "    def print_status(self, M, low, alpha):\n",
    "        pct = 100*low/(M - alpha)\n",
    "        print(\"{0:.2f}\".format(pct), end = ' ')\n",
    "\n",
    "\n",
    "    def visualize(self, S):\n",
    "        plt.figure(figsize=(12, 8))\n",
    "        librosa.display.specshow(S, x_axis='frames', y_axis='frames', n_xticks=12)\n",
    "        plt.title('SSM')\n",
    "        plt.set_cmap('hot_r')\n",
    "        plt.colorbar()\n",
    "        plt.show()\n",
    "\n",
    "\n",
    "    def display_path(self, path_family, low):\n",
    "        S = self.ssm.s.copy()\n",
    "        new_cells = [(cell[0], cell[1] + low) for cell in path_family]\n",
    "        for cell in new_cells:\n",
    "            S[cell] = 5\n",
    "        self.visualize(S)\n",
    "\n",
    "    def max_path_family(self, S, alpha):\n",
    "        [N, M] = S.shape\n",
    "        D = np.zeros((N, alpha + 1))\n",
    "        fitness_list = []\n",
    "        for low in range(0, M - alpha + 1):\n",
    "            Sa = S[:, low:low + alpha]\n",
    "            D[N - 1, 2:alpha + 1] = -np.inf\n",
    "            for i in range(N - 1, -1, -1):\n",
    "                for j in range(alpha + 1):\n",
    "                    if (j == 0 and i + 1 < N):\n",
    "                        D[i, j] = max(D[i + 1,0], D[i + 1, alpha])\n",
    "                    elif (j == 1):\n",
    "                        D[i, j] = D[i, 0] + Sa[N - 1 - i, 0]\n",
    "                    elif (i != N - 1 and j != 0):\n",
    "                        D[i, j] = Sa[N - 1 - i, j - 1] + max(D[i + 1, j - 1] if i + 1 < N and j - 1 > 0 else 0,\n",
    "                                                             D[i + 1, j - 2] if i + 1 < N and j - 2 > 0 else 0,\n",
    "                                                             D[i + 2, j - 1] if i + 2 < N and j - 1 > 0 else 0)\n",
    "            possible_max = [D[0, alpha], D[0, 0]]\n",
    "            score_opt = max(possible_max)\n",
    "            arg = np.argmax(possible_max)\n",
    "            path_family = self.calculate_path((0, 0) if arg else (0, alpha), D, Sa)\n",
    "            gamma = self.calculate_coverage(path_family, alpha, N)\n",
    "            mi = self.calculate_score(path_family, score_opt, alpha)\n",
    "            fitness = self.calculate_fitness(gamma, mi)\n",
    "            fitness_list.append((fitness, low))\n",
    "            self.print_status(M, low, alpha)\n",
    "            self.display_path(path_family, low)\n",
    "        return fitness_list\n",
    "\n",
    "    \n",
    "    \n",
    "    def segmentScore(self, segment,ssm):\n",
    "        l = int(segment[1]-segment[0])\n",
    "        S = ssm[:,segment[0]:segment[1]]\n",
    "        D = np.zeros((ssm.shape[0],l))\n",
    "        D[0,0] = S[0,0]\n",
    "        for x in range(1,l):\n",
    "                D[0,x] = -np.inf\n",
    "        for y in range(1,ssm.shape[0]):\n",
    "            D[y,0] = max(D[y-1,-1],S[y,0]+D[y-1,0]-S[y-1,0])\n",
    "            for x in range(1,l):\n",
    "                D[y,x] = D[y-1,x-1]+S[y,x]\n",
    "        E = np.zeros(ssm.shape)\n",
    "        path_family = []\n",
    "        x = l-1\n",
    "        y = np.where(np.max(D[:,-1])==D[:,-1])[0][0]\n",
    "        score = D[y,x]\n",
    "        coverage = 0\n",
    "        over_segment = 1\n",
    "        while y!=0 or x!=0:\n",
    "            if over_segment:\n",
    "                coverage = coverage + 1\n",
    "                E[y,segment[0]+x] = 1\n",
    "                path_family.append((y,segment[0]+x))\n",
    "            if x != 0:\n",
    "                x -= 1\n",
    "            else:\n",
    "                over_segment = 0\n",
    "                if D[y-1,0]<D[y-1,-1]:\n",
    "                    x = l-1\n",
    "                    over_segment = 1\n",
    "            y -= 1\n",
    "        return score, coverage, path_family, E\n",
    "\n",
    "    def fitnessMatrix(self, ssm):\n",
    "        min_seg = 0\n",
    "        max_seg = ssm.shape[0]\n",
    "        min_size = 9\n",
    "        max_size = ssm.shape[1]/4\n",
    "        fitness_matrix = np.zeros((ssm.shape[0]/2,ssm.shape[1]))\n",
    "        for i in np.arange(min_seg,max_seg):\n",
    "            for j in np.arange(i+min_size,min(i+max_size,max_seg)):\n",
    "                segment = (i,j)\n",
    "                fitness_matrix[j-i,i] = self.fitness(segment, ssm)\n",
    "        return fitness_matrix\n",
    "\n",
    "    def fitness(self, segment, ssm):\n",
    "        score = 0\n",
    "        coverage = 0\n",
    "        segment_length = (segment[1] - segment[0])\n",
    "        score, coverage, p_star, E = self.segmentScore(segment,ssm)\n",
    "        normalized_score = (score - segment_length) / (len(p_star))\n",
    "        normalized_coverage = (coverage - segment_length + 0.0) / ssm.shape[0]\n",
    "        if normalized_score==0 or normalized_coverage==0:\n",
    "            return 0\n",
    "        return 2*normalized_score*normalized_coverage/(normalized_score+normalized_coverage)\n",
    "    \n",
    "    \n",
    "    \n",
    "    def thumb_alpha(self, alpha):\n",
    "        fitness_list = self.max_path_family(self.ssm.s, alpha)\n",
    "        (max_fit, max_low) = max(fitness_list, key = lambda item:item[0])\n",
    "        print(\"Thumbnail init: \" + str(self.frame_to_time(max_low)) + \" with: \" + str(max_fit) + \" of fitness value.\")\n",
    "\n",
    "    def thumb_time(self, time):\n",
    "        fitness_list = self.max_path_family(self.ssm.s, self.time_to_frame(time))\n",
    "        (max_fit, max_low) = max(fitness_list, key = lambda item:item[0])\n",
    "        print(\"Thumbnail init: \" + str(self.frame_to_time(max_low)) + \" with: \" + str(max_fit) + \" of fitness value.\")\n",
    "\n",
    "    def frame_to_time(self, f):\n",
    "        dt = self.ssm.duration/self.ssm.s.shape[0]\n",
    "        return dt*f\n",
    "\n",
    "    def time_to_frame(self, time):\n",
    "        df = self.ssm.s.shape[0]/self.ssm.duration\n",
    "        return int(df*time)\n"
   ]
  },
  {
   "cell_type": "code",
   "execution_count": null,
   "metadata": {
    "collapsed": true
   },
   "outputs": [],
   "source": []
  },
  {
   "cell_type": "code",
   "execution_count": 8,
   "metadata": {
    "collapsed": false
   },
   "outputs": [
    {
     "name": "stdout",
     "output_type": "stream",
     "text": [
      "Calculating features...\n",
      "Features calculated.\n",
      "Calculating SSM...\n",
      "SSM calculated.\n"
     ]
    }
   ],
   "source": [
    "at = audio_thumb_muller('wav/sun.wav', k = 10)"
   ]
  },
  {
   "cell_type": "code",
   "execution_count": 9,
   "metadata": {
    "collapsed": false,
    "scrolled": false
   },
   "outputs": [
    {
     "name": "stderr",
     "output_type": "stream",
     "text": [
      "/Users/felipefelix/anaconda/lib/python3.5/site-packages/ipykernel/__main__.py:178: VisibleDeprecationWarning: using a non-integer number instead of an integer will result in an error in the future\n",
      "/Users/felipefelix/anaconda/lib/python3.5/site-packages/ipykernel/__main__.py:142: VisibleDeprecationWarning: using a non-integer number instead of an integer will result in an error in the future\n",
      "/Users/felipefelix/anaconda/lib/python3.5/site-packages/ipykernel/__main__.py:182: VisibleDeprecationWarning: using a non-integer number instead of an integer will result in an error in the future\n"
     ]
    },
    {
     "ename": "KeyboardInterrupt",
     "evalue": "",
     "output_type": "error",
     "traceback": [
      "\u001b[0;31m---------------------------------------------------------------------------\u001b[0m",
      "\u001b[0;31mKeyboardInterrupt\u001b[0m                         Traceback (most recent call last)",
      "\u001b[0;32m<ipython-input-9-1bf26756c043>\u001b[0m in \u001b[0;36m<module>\u001b[0;34m()\u001b[0m\n\u001b[0;32m----> 1\u001b[0;31m \u001b[0mat\u001b[0m\u001b[0;34m.\u001b[0m\u001b[0mfitnessMatrix\u001b[0m\u001b[0;34m(\u001b[0m\u001b[0mat\u001b[0m\u001b[0;34m.\u001b[0m\u001b[0mssm\u001b[0m\u001b[0;34m.\u001b[0m\u001b[0ms\u001b[0m\u001b[0;34m)\u001b[0m\u001b[0;34m\u001b[0m\u001b[0m\n\u001b[0m",
      "\u001b[0;32m<ipython-input-7-47729b52971e>\u001b[0m in \u001b[0;36mfitnessMatrix\u001b[0;34m(self, ssm)\u001b[0m\n\u001b[1;32m    180\u001b[0m             \u001b[0;32mfor\u001b[0m \u001b[0mj\u001b[0m \u001b[0;32min\u001b[0m \u001b[0mnp\u001b[0m\u001b[0;34m.\u001b[0m\u001b[0marange\u001b[0m\u001b[0;34m(\u001b[0m\u001b[0mi\u001b[0m\u001b[0;34m+\u001b[0m\u001b[0mmin_size\u001b[0m\u001b[0;34m,\u001b[0m\u001b[0mmin\u001b[0m\u001b[0;34m(\u001b[0m\u001b[0mi\u001b[0m\u001b[0;34m+\u001b[0m\u001b[0mmax_size\u001b[0m\u001b[0;34m,\u001b[0m\u001b[0mmax_seg\u001b[0m\u001b[0;34m)\u001b[0m\u001b[0;34m)\u001b[0m\u001b[0;34m:\u001b[0m\u001b[0;34m\u001b[0m\u001b[0m\n\u001b[1;32m    181\u001b[0m                 \u001b[0msegment\u001b[0m \u001b[0;34m=\u001b[0m \u001b[0;34m(\u001b[0m\u001b[0mi\u001b[0m\u001b[0;34m,\u001b[0m\u001b[0mj\u001b[0m\u001b[0;34m)\u001b[0m\u001b[0;34m\u001b[0m\u001b[0m\n\u001b[0;32m--> 182\u001b[0;31m                 \u001b[0mfitness_matrix\u001b[0m\u001b[0;34m[\u001b[0m\u001b[0mj\u001b[0m\u001b[0;34m-\u001b[0m\u001b[0mi\u001b[0m\u001b[0;34m,\u001b[0m\u001b[0mi\u001b[0m\u001b[0;34m]\u001b[0m \u001b[0;34m=\u001b[0m \u001b[0mself\u001b[0m\u001b[0;34m.\u001b[0m\u001b[0mfitness\u001b[0m\u001b[0;34m(\u001b[0m\u001b[0msegment\u001b[0m\u001b[0;34m,\u001b[0m \u001b[0mssm\u001b[0m\u001b[0;34m)\u001b[0m\u001b[0;34m\u001b[0m\u001b[0m\n\u001b[0m\u001b[1;32m    183\u001b[0m         \u001b[0;32mreturn\u001b[0m \u001b[0mfitness_matrix\u001b[0m\u001b[0;34m\u001b[0m\u001b[0m\n\u001b[1;32m    184\u001b[0m \u001b[0;34m\u001b[0m\u001b[0m\n",
      "\u001b[0;32m<ipython-input-7-47729b52971e>\u001b[0m in \u001b[0;36mfitness\u001b[0;34m(self, segment, ssm)\u001b[0m\n\u001b[1;32m    187\u001b[0m         \u001b[0mcoverage\u001b[0m \u001b[0;34m=\u001b[0m \u001b[0;36m0\u001b[0m\u001b[0;34m\u001b[0m\u001b[0m\n\u001b[1;32m    188\u001b[0m         \u001b[0msegment_length\u001b[0m \u001b[0;34m=\u001b[0m \u001b[0;34m(\u001b[0m\u001b[0msegment\u001b[0m\u001b[0;34m[\u001b[0m\u001b[0;36m1\u001b[0m\u001b[0;34m]\u001b[0m \u001b[0;34m-\u001b[0m \u001b[0msegment\u001b[0m\u001b[0;34m[\u001b[0m\u001b[0;36m0\u001b[0m\u001b[0;34m]\u001b[0m\u001b[0;34m)\u001b[0m\u001b[0;34m\u001b[0m\u001b[0m\n\u001b[0;32m--> 189\u001b[0;31m         \u001b[0mscore\u001b[0m\u001b[0;34m,\u001b[0m \u001b[0mcoverage\u001b[0m\u001b[0;34m,\u001b[0m \u001b[0mp_star\u001b[0m\u001b[0;34m,\u001b[0m \u001b[0mE\u001b[0m \u001b[0;34m=\u001b[0m \u001b[0mself\u001b[0m\u001b[0;34m.\u001b[0m\u001b[0msegmentScore\u001b[0m\u001b[0;34m(\u001b[0m\u001b[0msegment\u001b[0m\u001b[0;34m,\u001b[0m\u001b[0mssm\u001b[0m\u001b[0;34m)\u001b[0m\u001b[0;34m\u001b[0m\u001b[0m\n\u001b[0m\u001b[1;32m    190\u001b[0m         \u001b[0mnormalized_score\u001b[0m \u001b[0;34m=\u001b[0m \u001b[0;34m(\u001b[0m\u001b[0mscore\u001b[0m \u001b[0;34m-\u001b[0m \u001b[0msegment_length\u001b[0m\u001b[0;34m)\u001b[0m \u001b[0;34m/\u001b[0m \u001b[0;34m(\u001b[0m\u001b[0mlen\u001b[0m\u001b[0;34m(\u001b[0m\u001b[0mp_star\u001b[0m\u001b[0;34m)\u001b[0m\u001b[0;34m)\u001b[0m\u001b[0;34m\u001b[0m\u001b[0m\n\u001b[1;32m    191\u001b[0m         \u001b[0mnormalized_coverage\u001b[0m \u001b[0;34m=\u001b[0m \u001b[0;34m(\u001b[0m\u001b[0mcoverage\u001b[0m \u001b[0;34m-\u001b[0m \u001b[0msegment_length\u001b[0m \u001b[0;34m+\u001b[0m \u001b[0;36m0.0\u001b[0m\u001b[0;34m)\u001b[0m \u001b[0;34m/\u001b[0m \u001b[0mssm\u001b[0m\u001b[0;34m.\u001b[0m\u001b[0mshape\u001b[0m\u001b[0;34m[\u001b[0m\u001b[0;36m0\u001b[0m\u001b[0;34m]\u001b[0m\u001b[0;34m\u001b[0m\u001b[0m\n",
      "\u001b[0;32m<ipython-input-7-47729b52971e>\u001b[0m in \u001b[0;36msegmentScore\u001b[0;34m(self, segment, ssm)\u001b[0m\n\u001b[1;32m    148\u001b[0m             \u001b[0mD\u001b[0m\u001b[0;34m[\u001b[0m\u001b[0my\u001b[0m\u001b[0;34m,\u001b[0m\u001b[0;36m0\u001b[0m\u001b[0;34m]\u001b[0m \u001b[0;34m=\u001b[0m \u001b[0mmax\u001b[0m\u001b[0;34m(\u001b[0m\u001b[0mD\u001b[0m\u001b[0;34m[\u001b[0m\u001b[0my\u001b[0m\u001b[0;34m-\u001b[0m\u001b[0;36m1\u001b[0m\u001b[0;34m,\u001b[0m\u001b[0;34m-\u001b[0m\u001b[0;36m1\u001b[0m\u001b[0;34m]\u001b[0m\u001b[0;34m,\u001b[0m\u001b[0mS\u001b[0m\u001b[0;34m[\u001b[0m\u001b[0my\u001b[0m\u001b[0;34m,\u001b[0m\u001b[0;36m0\u001b[0m\u001b[0;34m]\u001b[0m\u001b[0;34m+\u001b[0m\u001b[0mD\u001b[0m\u001b[0;34m[\u001b[0m\u001b[0my\u001b[0m\u001b[0;34m-\u001b[0m\u001b[0;36m1\u001b[0m\u001b[0;34m,\u001b[0m\u001b[0;36m0\u001b[0m\u001b[0;34m]\u001b[0m\u001b[0;34m-\u001b[0m\u001b[0mS\u001b[0m\u001b[0;34m[\u001b[0m\u001b[0my\u001b[0m\u001b[0;34m-\u001b[0m\u001b[0;36m1\u001b[0m\u001b[0;34m,\u001b[0m\u001b[0;36m0\u001b[0m\u001b[0;34m]\u001b[0m\u001b[0;34m)\u001b[0m\u001b[0;34m\u001b[0m\u001b[0m\n\u001b[1;32m    149\u001b[0m             \u001b[0;32mfor\u001b[0m \u001b[0mx\u001b[0m \u001b[0;32min\u001b[0m \u001b[0mrange\u001b[0m\u001b[0;34m(\u001b[0m\u001b[0;36m1\u001b[0m\u001b[0;34m,\u001b[0m\u001b[0ml\u001b[0m\u001b[0;34m)\u001b[0m\u001b[0;34m:\u001b[0m\u001b[0;34m\u001b[0m\u001b[0m\n\u001b[0;32m--> 150\u001b[0;31m                 \u001b[0mD\u001b[0m\u001b[0;34m[\u001b[0m\u001b[0my\u001b[0m\u001b[0;34m,\u001b[0m\u001b[0mx\u001b[0m\u001b[0;34m]\u001b[0m \u001b[0;34m=\u001b[0m \u001b[0mD\u001b[0m\u001b[0;34m[\u001b[0m\u001b[0my\u001b[0m\u001b[0;34m-\u001b[0m\u001b[0;36m1\u001b[0m\u001b[0;34m,\u001b[0m\u001b[0mx\u001b[0m\u001b[0;34m-\u001b[0m\u001b[0;36m1\u001b[0m\u001b[0;34m]\u001b[0m\u001b[0;34m+\u001b[0m\u001b[0mS\u001b[0m\u001b[0;34m[\u001b[0m\u001b[0my\u001b[0m\u001b[0;34m,\u001b[0m\u001b[0mx\u001b[0m\u001b[0;34m]\u001b[0m\u001b[0;34m\u001b[0m\u001b[0m\n\u001b[0m\u001b[1;32m    151\u001b[0m         \u001b[0mE\u001b[0m \u001b[0;34m=\u001b[0m \u001b[0mnp\u001b[0m\u001b[0;34m.\u001b[0m\u001b[0mzeros\u001b[0m\u001b[0;34m(\u001b[0m\u001b[0mssm\u001b[0m\u001b[0;34m.\u001b[0m\u001b[0mshape\u001b[0m\u001b[0;34m)\u001b[0m\u001b[0;34m\u001b[0m\u001b[0m\n\u001b[1;32m    152\u001b[0m         \u001b[0mpath_family\u001b[0m \u001b[0;34m=\u001b[0m \u001b[0;34m[\u001b[0m\u001b[0;34m]\u001b[0m\u001b[0;34m\u001b[0m\u001b[0m\n",
      "\u001b[0;31mKeyboardInterrupt\u001b[0m: "
     ]
    }
   ],
   "source": [
    "at.fitnessMatrix(at.ssm.s)"
   ]
  },
  {
   "cell_type": "code",
   "execution_count": null,
   "metadata": {
    "collapsed": true
   },
   "outputs": [],
   "source": []
  },
  {
   "cell_type": "code",
   "execution_count": null,
   "metadata": {
    "collapsed": false
   },
   "outputs": [],
   "source": [
    "at.ssm.s.shape"
   ]
  },
  {
   "cell_type": "code",
   "execution_count": null,
   "metadata": {
    "collapsed": false
   },
   "outputs": [],
   "source": [
    "at.ssm.visualize()"
   ]
  },
  {
   "cell_type": "code",
   "execution_count": null,
   "metadata": {
    "collapsed": false,
    "scrolled": false
   },
   "outputs": [],
   "source": [
    "at.ssm.threshold(0.7)"
   ]
  },
  {
   "cell_type": "code",
   "execution_count": null,
   "metadata": {
    "collapsed": false
   },
   "outputs": [],
   "source": [
    "at.ssm.visualize()"
   ]
  },
  {
   "cell_type": "code",
   "execution_count": null,
   "metadata": {
    "collapsed": true
   },
   "outputs": [],
   "source": []
  }
 ],
 "metadata": {
  "anaconda-cloud": {},
  "kernelspec": {
   "display_name": "Python [conda root]",
   "language": "python",
   "name": "conda-root-py"
  },
  "language_info": {
   "codemirror_mode": {
    "name": "ipython",
    "version": 3
   },
   "file_extension": ".py",
   "mimetype": "text/x-python",
   "name": "python",
   "nbconvert_exporter": "python",
   "pygments_lexer": "ipython3",
   "version": "3.5.2"
  }
 },
 "nbformat": 4,
 "nbformat_minor": 1
}
